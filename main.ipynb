{
 "cells": [
  {
   "cell_type": "markdown",
   "metadata": {},
   "source": [
    "# Imports & Config"
   ]
  },
  {
   "cell_type": "code",
   "execution_count": 1,
   "metadata": {},
   "outputs": [],
   "source": [
    "import os\n",
    "import pandas as pd\n",
    "import numpy as np\n",
    "\n",
    "import plotly.express as px\n",
    "import plotly.graph_objects as go\n",
    "import plotly.io as pio\n",
    "\n",
    "from plotly.subplots import make_subplots\n",
    "from dotenv import dotenv_values\n",
    "from matplotlib import pyplot as plt\n",
    "\n",
    "from sklearn import preprocessing\n",
    "from sklearn import tree\n",
    "from sklearn.ensemble import RandomForestRegressor\n",
    "\n",
    "config = dotenv_values(\".env\")\n",
    "\n",
    "px.set_mapbox_access_token(config['MAPBOX_TOKEN'])\n",
    "pio.templates.default = \"plotly_white\"\n",
    "\n",
    "np.random.seed(711)"
   ]
  },
  {
   "cell_type": "code",
   "execution_count": 2,
   "metadata": {},
   "outputs": [],
   "source": [
    "df = pd.read_csv('train.csv')\n",
    "\n",
    "pd.options.display.max_rows = len(df.columns) + 50"
   ]
  },
  {
   "cell_type": "markdown",
   "metadata": {},
   "source": [
    "# Modeling"
   ]
  },
  {
   "cell_type": "markdown",
   "metadata": {},
   "source": [
    "**Pipeline**:\n",
    "\n",
    "1. Set Pipeline Options:\n",
    "- What Data Fixing Operations should be used (bool flags)\n",
    "- What new features (via methods) should be added\n",
    "- Scaling options to use (bool flags)\n",
    "- Model hyperparams\n",
    "\n",
    "2. Data Fixing\n",
    "- Remove inessential columns\n",
    "- Fix NA/missing values\n",
    "- Fix erroneous values (e.g. \"None\" vs None)\n",
    "- Remove outliers *with care*\n",
    "\n",
    "3. Feature Engineering\n",
    "- Add new features\n",
    "\n",
    "4. Feature Scaling\n",
    "- Convert categorical features\n",
    "- (optional) Scale/Normalize features\n",
    "- Standardize features\n",
    "\n",
    "5. Model preparation\n",
    "- split train/test (use k-folds)\n",
    "- set hyper-params (or use grid/random search)\n",
    "- set metrics and visual analysis"
   ]
  },
  {
   "cell_type": "markdown",
   "metadata": {},
   "source": [
    "## Feature Gen & Helpers"
   ]
  },
  {
   "cell_type": "code",
   "execution_count": 3,
   "metadata": {},
   "outputs": [],
   "source": [
    "class NewFeatures:\n",
    "\n",
    "    # Adds the month number, e.g. second month of seconds year = (1 * 12) + 2 = 14\n",
    "    @staticmethod\n",
    "    def add_month_number(df):\n",
    "        '''\n",
    "        Returns a new DataFrame with addded column \"month_number\". The month_number starts at 1 and increments to the final month.\n",
    "        For instance, if the earliest date is January 2005, February 2005 = 2 and February 2006 = 14.\n",
    "        '''\n",
    "        df.YrSold = pd.to_numeric(df.YrSold)\n",
    "        df.MoSold = pd.to_numeric(df.MoSold)\n",
    "        base_year = df.YrSold.min()\n",
    "        df['month_number'] = (df.YrSold - base_year)*12 + df.MoSold\n",
    "\n",
    "        return df"
   ]
  },
  {
   "cell_type": "code",
   "execution_count": 188,
   "metadata": {},
   "outputs": [],
   "source": [
    "class Helpers:\n",
    "\n",
    "    # Returns two DataFrames, a training set with all months n-1, and a test set with just month n\n",
    "    @staticmethod\n",
    "    def separate_final_month(df):\n",
    "        '''\n",
    "        Returns two new DataFrames. The first DataFrame includes all records & columns except records from the final month (as determined by col month_number). \n",
    "        The second DataFrame includes all records & columns from the final month.\n",
    "        '''\n",
    "        df = df.copy()\n",
    "        if 'month_number' not in df:\n",
    "            df = NewFeatures.add_month_number(df)\n",
    "        \n",
    "        train_set = df.loc[df.month_number<df.month_number.max()]\n",
    "        test_set  = df.loc[df.month_number==df.month_number.max()]\n",
    "\n",
    "        return train_set, test_set\n",
    "\n",
    "    @staticmethod\n",
    "    def split_x_y(df):\n",
    "        x = df.drop(columns=['SalePrice']).values\n",
    "        y = df.SalePrice.values.reshape((len(df), 1))\n",
    "        return x, y\n",
    "\n",
    "    @staticmethod\n",
    "    def convert_to_ordinal(df, columns, ignore_na=False):\n",
    "        df = df.copy()\n",
    "        for col in columns:\n",
    "            unique_values = df[col].unique()\n",
    "            n_categories  = len(unique_values)\n",
    "\n",
    "            ordinal_map = {v:i for v, i in zip(unique_values, range(1, n_categories+1))}\n",
    "            \n",
    "            df[col] = df[col].replace(ordinal_map)\n",
    "            if not ignore_na:\n",
    "                df[col] = df[col].fillna(0)\n",
    "\n",
    "        return df\n",
    "\n",
    "    @staticmethod\n",
    "    def convert_to_truncated_ordinal(df, columns, ignore_na=False, threshold=0.01):\n",
    "        '''\n",
    "        Similar to convert_to_ordinal. This method will assess whether any of the potential values\n",
    "        are highly uncommon (<1%) and group into an \"other\" value.\n",
    "        '''\n",
    "        for col in columns:\n",
    "            value_pcts    = df[col].value_counts() / len(df)\n",
    "            vals_to_group = value_pcts[value_pcts < threshold].index.values\n",
    "            val_map = {val:'other' for val in vals_to_group}\n",
    "            df[col] = df[col].replace(val_map)\n",
    "        \n",
    "        return Helpers.convert_to_ordinal(df, columns, ignore_na=ignore_na)\n",
    "\n",
    "    @staticmethod\n",
    "    def convert_to_one_hot(df, columns, ignore_na=False, drop_original_cols=True):\n",
    "        df = df.copy()\n",
    "        if columns is None:\n",
    "            columns = df.columns\n",
    "        onehot_cols = pd.get_dummies(df.loc[:, columns], columns=columns, dummy_na=(not ignore_na))\n",
    "        df = df.join(onehot_cols)\n",
    "        if drop_original_cols:\n",
    "            df = df.drop(columns=columns)\n",
    "\n",
    "        return df\n"
   ]
  },
  {
   "cell_type": "markdown",
   "metadata": {},
   "source": [
    "## Pipeline"
   ]
  },
  {
   "cell_type": "code",
   "execution_count": 257,
   "metadata": {},
   "outputs": [
    {
     "data": {
      "text/plain": [
       "Index(['Id', 'MSSubClass', 'LotFrontage', 'LotArea', 'OverallQual',\n",
       "       'OverallCond', 'YearBuilt', 'YearRemodAdd', 'MasVnrArea', 'BsmtFinSF1',\n",
       "       'BsmtFinSF2', 'BsmtUnfSF', 'TotalBsmtSF', '1stFlrSF', '2ndFlrSF',\n",
       "       'LowQualFinSF', 'GrLivArea', 'BsmtFullBath', 'BsmtHalfBath', 'FullBath',\n",
       "       'HalfBath', 'BedroomAbvGr', 'KitchenAbvGr', 'TotRmsAbvGrd',\n",
       "       'Fireplaces', 'GarageYrBlt', 'GarageCars', 'GarageArea', 'WoodDeckSF',\n",
       "       'OpenPorchSF', 'EnclosedPorch', '3SsnPorch', 'ScreenPorch', 'PoolArea',\n",
       "       'MiscVal', 'MoSold', 'YrSold', 'SalePrice'],\n",
       "      dtype='object')"
      ]
     },
     "execution_count": 257,
     "metadata": {},
     "output_type": "execute_result"
    }
   ],
   "source": [
    "df._get_numeric_data().columns"
   ]
  },
  {
   "cell_type": "code",
   "execution_count": 301,
   "metadata": {},
   "outputs": [],
   "source": [
    "# Just used as a namespace\n",
    "class PerColAdj:\n",
    "\n",
    "    def __init__(self):\n",
    "        pass"
   ]
  },
  {
   "cell_type": "code",
   "execution_count": 376,
   "metadata": {},
   "outputs": [],
   "source": [
    "class DataFixing:\n",
    "\n",
    "    def __init__(self, **kwargs):\n",
    "        self.df = None\n",
    "        self.__dict__.update(kwargs)\n",
    "\n",
    "    def fix(self, df):\n",
    "        # Loops through all class methods and calls the ones with prefix \"_\"\n",
    "        self.df = df\n",
    "\n",
    "        if 'SalePrice' in self.df:\n",
    "            print(\"Removing SalePrice target before operations\")\n",
    "            self.df = self.df.drop(columns=[\"SalePrice\"])\n",
    "\n",
    "        # Instead of looping through all methods\n",
    "        # explicitly order operations\n",
    "        ops = [\n",
    "            self._remove_columns,\n",
    "            self._convert_categorical,\n",
    "            self._fix_error_values,\n",
    "            self._fix_outliers,\n",
    "            self._fix_na,\n",
    "            self._remove_non_numeric_columns,\n",
    "        ]\n",
    "\n",
    "        for op in ops:\n",
    "            starting_record_count = len(self.df)\n",
    "            op()\n",
    "            pct_record_reduction = 1 - (len(self.df) / starting_record_count)\n",
    "            if pct_record_reduction > 0.0:\n",
    "                print(f'{op.__name__} cut {pct_record_reduction*100:.2f}% of records')\n",
    "\n",
    "        return self.df\n",
    "\n",
    "    def _remove_columns(self):\n",
    "        columns = getattr(self, 'remove_columns_list', [])\n",
    "        if len(columns)> 0:\n",
    "            self.df = self.df.drop(columns=columns)\n",
    "\n",
    "    def _fix_na(self):\n",
    "        na_map = getattr(self, \"fix_na\", {})\n",
    "\n",
    "        drop_na_cols    = []\n",
    "        zero_na_cols    = []\n",
    "\n",
    "        for col, op in na_map.items():\n",
    "\n",
    "            if op == \"drop\":\n",
    "                drop_na_cols.append(col)\n",
    "            elif op == \"zero\":\n",
    "                zero_na_cols.append(col)\n",
    "            elif op == \"median\":\n",
    "                median_value = self.df[col].median()\n",
    "                self.df[col] = self.df[col].fillna(median_value)\n",
    "            elif op == \"bottom\":\n",
    "                bottom_cap_value = self.df[col].quantile(.02)\n",
    "                self.df[col] = self.df[col].fillna(bottom_cap_value)\n",
    "            elif op == \"top\":\n",
    "                top_cap_value = self.df[col].quantile(.98)\n",
    "                self.df[col] = self.df[col].fillna(top_cap_value)\n",
    "            else:\n",
    "                drop_na_cols.append(col)\n",
    "\n",
    "        # These operations are ineffectual if col list is empty, so not dangerous\n",
    "        self.df = self.df.drop(columns=drop_na_cols)\n",
    "        self.df.loc[:, zero_na_cols] = self.df.loc[:, zero_na_cols].fillna(0)\n",
    "\n",
    "        # TODO REMOVE THIS ONCE ALL COLS ADDRESSED\n",
    "        self.df = self.df.fillna(0)\n",
    "\n",
    "    def _fix_error_values(self):\n",
    "        should_fix_error_values = getattr(self, 'fix_error_values', False)\n",
    "        if should_fix_error_values:\n",
    "            pass\n",
    "        pass\n",
    "\n",
    "    def _remove_non_numeric_columns(self):\n",
    "        should_remove_non_numeric = getattr(self, 'remove_non_numeric', False)\n",
    "        if should_remove_non_numeric:\n",
    "            self.df = self.df._get_numeric_data()\n",
    "    \n",
    "    def _convert_categorical(self):\n",
    "        conversion_map = getattr(self, \"convert_categorical\", {})\n",
    "        ordinal_cols = []\n",
    "        truncated_ordinal_cols = []\n",
    "        onehot_cols  = []\n",
    "        for col, op in conversion_map.items():\n",
    "            if op == \"ordinal\":\n",
    "                ordinal_cols.append(col)\n",
    "            elif op == \"truncated_ordinal\":\n",
    "                truncated_ordinal_cols.append(col)\n",
    "            else:\n",
    "                onehot_cols.append(col)\n",
    "        \n",
    "        if len(ordinal_cols) > 0:\n",
    "            self.df = Helpers.convert_to_ordinal(self.df, ordinal_cols)\n",
    "\n",
    "        if len(truncated_ordinal_cols) > 0:\n",
    "            self.df = Helpers.convert_to_truncated_ordinal(self.df, truncated_ordinal_cols)\n",
    "\n",
    "        if len(onehot_cols) > 0:\n",
    "            self.df = Helpers.convert_to_one_hot(self.df, onehot_cols)\n",
    "    \n",
    "    def _fix_outliers(self, thresholds=(.02, .98)):\n",
    "        outlier_map = getattr(self, \"cap_outliers\", {})\n",
    "\n",
    "        for col, op in outlier_map.items():\n",
    "            top_cap_value    = self.df[col].quantile(thresholds[1])\n",
    "            bottom_cap_value = self.df[col].quantile(thresholds[0])\n",
    "\n",
    "            if op == \"bottom_cap\":\n",
    "                self.df.loc[self.df[col] < bottom_cap_value, col] = bottom_cap_value\n",
    "            elif op == \"top_cap\":\n",
    "                self.df.loc[self.df[col] > top_cap_value, col] = top_cap_value\n",
    "            else:\n",
    "                self.df.loc[self.df[col] > top_cap_value, col]    = top_cap_value\n",
    "                self.df.loc[self.df[col] < bottom_cap_value, col] = bottom_cap_value\n"
   ]
  },
  {
   "cell_type": "code",
   "execution_count": 6,
   "metadata": {},
   "outputs": [],
   "source": [
    "class FeatureGeneration:\n",
    "\n",
    "    def __init__(self, list_of_methods):\n",
    "        self.feature_methods = list_of_methods\n",
    "\n",
    "    def generate(self, df):\n",
    "        if 'SalePrice' in df:\n",
    "            print(\"Removing SalePrice target before operations\")\n",
    "            df = df.drop(columns=[\"SalePrice\"])\n",
    "        for method in self.feature_methods:\n",
    "            if callable(method):\n",
    "                df = method(df)\n",
    "        return df"
   ]
  },
  {
   "cell_type": "code",
   "execution_count": 7,
   "metadata": {},
   "outputs": [],
   "source": [
    "class FeatureScaler:\n",
    "\n",
    "    def __init__(self, **kwargs):\n",
    "        self.df = None\n",
    "        self.__dict__.update(kwargs)\n",
    "\n",
    "    def scale(self, df):\n",
    "        self.df = df\n",
    "        if len(self.df) == 0:\n",
    "            return False\n",
    "\n",
    "        if 'SalePrice' in self.df:\n",
    "            print(\"Removing SalePrice target before operations\")\n",
    "            self.df = self.df.drop(columns=[\"SalePrice\"])\n",
    "\n",
    "        if not self.columns_are_valid():\n",
    "            raise Exception(\"Ensure all columns are numeric\")\n",
    "        for attr_name in dir(self):\n",
    "            if attr_name[0] == '_' and attr_name[1] != '_':\n",
    "                attr = getattr(self, attr_name)\n",
    "                if callable(attr):\n",
    "                    attr()\n",
    "\n",
    "        return self.df\n",
    "\n",
    "    def columns_are_valid(self):\n",
    "        # ensure that all dtypes are numeric\n",
    "        dtypes = self.df.dtypes.unique()\n",
    "        if 'O' in dtypes:\n",
    "            print('found an o dtype')\n",
    "            return False\n",
    "        return True\n",
    "\n",
    "    def _standardize_data(self):\n",
    "        should_standardize_features = getattr(self, 'standardize_data', False)\n",
    "        if should_standardize_features:\n",
    "            self.df = (self.df - self.df.mean()) / self.df.std()\n"
   ]
  },
  {
   "cell_type": "code",
   "execution_count": 512,
   "metadata": {},
   "outputs": [],
   "source": [
    "class Modeler:\n",
    "\n",
    "    def __init__(self, use_random_forest=True):\n",
    "        self.is_random_forest = use_random_forest\n",
    "        if use_random_forest:\n",
    "            self.clf = RandomForestRegressor(random_state=711)\n",
    "        else:\n",
    "            self.clf = tree.DecisionTreeRegressor(random_state=711)\n",
    "        \n",
    "\n",
    "    def fit(self, x, y):\n",
    "        self.clf.fit(x, y)\n",
    "\n",
    "    def predict(self, x):\n",
    "        return self.clf.predict(x)\n",
    "\n",
    "    def calc_error(self, predicted, actual):\n",
    "        return np.sqrt( np.mean((predicted - actual)**2) )\n",
    "\n",
    "    def evaluate(self, df):\n",
    "        rmses = self.train(df, rounds=1)\n",
    "        return np.mean(rmses)\n"
   ]
  },
  {
   "cell_type": "code",
   "execution_count": 526,
   "metadata": {},
   "outputs": [],
   "source": [
    "class Pipeline:\n",
    "    def __init__(self, df, fixing_options, gen_options, scaling_options, modeling_options):\n",
    "        self.df = df\n",
    "        self.options = {'fix': fixing_options, 'gen': gen_options, 'scale': scaling_options, 'model': modeling_options}\n",
    "        # Used for Graphing\n",
    "        self.clf      = None\n",
    "        self.y_pred   = []\n",
    "        self.y_actual = []\n",
    "    \n",
    "    def validate(self):\n",
    "        return True\n",
    "\n",
    "    def graph_predictions(self):\n",
    "        if len(self.y_pred)>0 and len(self.y_pred) == len(self.y_actual):\n",
    "            fig = go.Figure()\n",
    "            fig.add_trace(\n",
    "                go.Scatter(y=self.y_pred, name=\"prediction\")\n",
    "            )\n",
    "            fig.add_trace(\n",
    "                go.Scatter(y=self.y_actual, name=\"actual\")\n",
    "            )\n",
    "            return fig\n",
    "\n",
    "    def plot_tree(self):\n",
    "        if self.options['model']['use_random_forest'] == False:\n",
    "            if len(self.y_pred)>0: # Another way of checking that the CLF has been fit\n",
    "                fig = plt.figure(figsize=(96,12))\n",
    "                _ = tree.plot_tree(\n",
    "                    self.clf, \n",
    "                    max_depth=6,\n",
    "                    feature_names=self.df.columns,\n",
    "                    filled=True,\n",
    "                    fontsize=10,\n",
    "                )\n",
    "                fig.savefig(\"decision_tree.png\")\n",
    "                return fig\n",
    "\n",
    "    def plot_feature_importances(self):\n",
    "        features          = self.df.drop(columns         =['SalePrice']).columns\n",
    "        importance_values = self.clf.feature_importances_\n",
    "        feature_importance_map = {k:v for k,v in zip(features, importance_values)}\n",
    "\n",
    "        sorted_feature_importances = [(t[0], t[1]) for t in sorted(feature_importance_map.items(), key=lambda kv:kv[1], reverse=True)]\n",
    "        cols = [v[0] for v in sorted_feature_importances]\n",
    "        vals = [v[1] for v in sorted_feature_importances]\n",
    "\n",
    "        return px.bar(x=cols, y=vals)\n",
    "\n",
    "    def run(self):\n",
    "        fixer = DataFixing(**self.options['fix'])\n",
    "        feature_generator = FeatureGeneration(self.options['gen'])\n",
    "        scaler = FeatureScaler(**self.options['scale'])\n",
    "        modeler = Modeler(**self.options['model'])\n",
    "\n",
    "        # Perform Data Operations and Feature Generation\n",
    "        data = self.df.drop(columns=['SalePrice'])\n",
    "        data = fixer.fix(data)\n",
    "        data = feature_generator.generate(data)\n",
    "        data = scaler.scale(data)\n",
    "\n",
    "        self.df = data.join(self.df.SalePrice)\n",
    "\n",
    "        # Split into train and test sets\n",
    "        train, test = Helpers.separate_final_month(self.df)\n",
    "        x_train, y_train = Helpers.split_x_y(train)\n",
    "        x_test, y_test = Helpers.split_x_y(test)\n",
    "\n",
    "\n",
    "        # Model\n",
    "        modeler.fit(x_train, y_train.flatten())\n",
    "        y_pred = modeler.predict(x_test)\n",
    "        error = modeler.calc_error(y_pred, y_test.flatten())\n",
    "\n",
    "        self.y_pred = y_pred\n",
    "        self.y_actual = y_test.flatten()\n",
    "        self.clf = modeler.clf\n",
    "\n",
    "        print(f'RMSE: {error}')\n",
    "        return error"
   ]
  },
  {
   "cell_type": "markdown",
   "metadata": {},
   "source": [
    "# Run"
   ]
  },
  {
   "cell_type": "code",
   "execution_count": 534,
   "metadata": {},
   "outputs": [
    {
     "name": "stdout",
     "output_type": "stream",
     "text": [
      "High Score: RMSE 23477.079069857333\n"
     ]
    }
   ],
   "source": [
    "high_score = 23477.079069857333\n",
    "print(f'High Score: RMSE {high_score}')"
   ]
  },
  {
   "cell_type": "code",
   "execution_count": 530,
   "metadata": {},
   "outputs": [
    {
     "name": "stdout",
     "output_type": "stream",
     "text": [
      "RMSE: 23477.079069857333\n",
      "Wo0t! New High Score: 23477.079069857333\n"
     ]
    }
   ],
   "source": [
    "data_fixing_options = {\n",
    "    'remove_columns_list': [\n",
    "        'Id',\n",
    "        # 'Alley',\n",
    "        # 'Street',\n",
    "        # 'Heating',\n",
    "        # 'Utilities',\n",
    "        # 'PoolQC',\n",
    "        # 'LowQualFinSF',\n",
    "        # 'PoolArea',\n",
    "        # 'Condition2',\n",
    "        # 'MiscFeature',\n",
    "        # 'RoofMatl',\n",
    "    ],\n",
    "\n",
    "    'fix_na': {\n",
    "        # drop, zero, median, top, bottom\n",
    "        'LotFrontage': 'bottom',\n",
    "    },\n",
    "    'fix_error_values': False,\n",
    "    'remove_non_numeric': True,\n",
    "    'convert_categorical':{\n",
    "        # ordinal, truncated_ordinal, one_hot\n",
    "        'Alley'      : 'truncated_ordinal',\n",
    "        'Street'     : 'truncated_ordinal',\n",
    "        'Heating'    : 'truncated_ordinal',\n",
    "        'Utilities'  : 'truncated_ordinal',\n",
    "        'PoolQC'     : 'truncated_ordinal',\n",
    "        'Condition2' : 'truncated_ordinal',\n",
    "        'MiscFeature': 'truncated_ordinal',\n",
    "        'RoofMatl'   : 'truncated_ordinal',\n",
    "        'MSSubClass' : 'ordinal',\n",
    "    },\n",
    "    'cap_outliers':{\n",
    "        # top_cap, bottom_cap, cap\n",
    "        'LotFrontage': 'top_cap',\n",
    "        'LotArea': 'cap',\n",
    "    }\n",
    "}\n",
    "\n",
    "pipe = Pipeline(df.loc[(df.YrSold < 2010)], data_fixing_options, feature_engineering_methods, data_scaling_options, modeling_options)\n",
    "rmse = pipe.run()\n",
    "if rmse < high_score:\n",
    "    print(f\"Wo0t! New High Score: {rmse}\")"
   ]
  },
  {
   "cell_type": "code",
   "execution_count": 532,
   "metadata": {},
   "outputs": [
    {
     "data": {
      "application/vnd.plotly.v1+json": {
       "config": {
        "plotlyServerURL": "https://plot.ly"
       },
       "data": [
        {
         "alignmentgroup": "True",
         "hovertemplate": "x=%{x}<br>y=%{y}<extra></extra>",
         "legendgroup": "",
         "marker": {
          "color": "#636efa"
         },
         "name": "",
         "offsetgroup": "",
         "orientation": "v",
         "showlegend": false,
         "textposition": "auto",
         "type": "bar",
         "x": [
          "OverallQual",
          "GrLivArea",
          "2ndFlrSF",
          "TotalBsmtSF",
          "BsmtFinSF1",
          "1stFlrSF",
          "LotArea",
          "FullBath",
          "GarageArea",
          "YearBuilt",
          "GarageCars",
          "YearRemodAdd",
          "MSSubClass",
          "GarageYrBlt",
          "MasVnrArea",
          "LotFrontage",
          "OpenPorchSF",
          "BsmtUnfSF",
          "OverallCond",
          "WoodDeckSF",
          "TotRmsAbvGrd",
          "MoSold",
          "Fireplaces",
          "month_number",
          "BedroomAbvGr",
          "BsmtFullBath",
          "ScreenPorch",
          "BsmtFinSF2",
          "HalfBath",
          "YrSold",
          "RoofMatl",
          "PoolQC",
          "EnclosedPorch",
          "Alley",
          "3SsnPorch",
          "KitchenAbvGr",
          "PoolArea",
          "BsmtHalfBath",
          "LowQualFinSF",
          "Heating",
          "Condition2",
          "MiscVal",
          "MiscFeature",
          "Street",
          "Utilities"
         ],
         "xaxis": "x",
         "y": [
          0.5679263936542183,
          0.12566538507152525,
          0.05092435682792665,
          0.03352287258088445,
          0.02379214406176516,
          0.023545251954078035,
          0.021659482643284413,
          0.015217776951686213,
          0.015062960296866792,
          0.01409005436642041,
          0.010367639923377768,
          0.010224181891843605,
          0.01011824305240744,
          0.008931696584870866,
          0.007967444126943762,
          0.007615306612661346,
          0.006206552311161376,
          0.005919598944863055,
          0.0058388500393593635,
          0.0052016406161729265,
          0.004542721229086359,
          0.004254037942629297,
          0.003999186245172303,
          0.003364720592675516,
          0.001956809362801089,
          0.0016567062300785298,
          0.001562699227682652,
          0.0014114558906462152,
          0.0010719064316855726,
          0.00098051462209083,
          0.0009392992874220614,
          0.0008673848132675678,
          0.0008443149921265559,
          0.0006048895261856471,
          0.0005100295496244631,
          0.0004032081958336235,
          0.00028624546718793615,
          0.0002524293260853638,
          0.000248046018573112,
          0.00021435531216787069,
          0.00010060447180172059,
          0.00007634899504749128,
          0.00004445256838934945,
          0.000009273992389070855,
          5.271970326049713e-7
         ],
         "yaxis": "y"
        }
       ],
       "layout": {
        "barmode": "relative",
        "legend": {
         "tracegroupgap": 0
        },
        "margin": {
         "t": 60
        },
        "template": {
         "data": {
          "bar": [
           {
            "error_x": {
             "color": "#2a3f5f"
            },
            "error_y": {
             "color": "#2a3f5f"
            },
            "marker": {
             "line": {
              "color": "white",
              "width": 0.5
             }
            },
            "type": "bar"
           }
          ],
          "barpolar": [
           {
            "marker": {
             "line": {
              "color": "white",
              "width": 0.5
             }
            },
            "type": "barpolar"
           }
          ],
          "carpet": [
           {
            "aaxis": {
             "endlinecolor": "#2a3f5f",
             "gridcolor": "#C8D4E3",
             "linecolor": "#C8D4E3",
             "minorgridcolor": "#C8D4E3",
             "startlinecolor": "#2a3f5f"
            },
            "baxis": {
             "endlinecolor": "#2a3f5f",
             "gridcolor": "#C8D4E3",
             "linecolor": "#C8D4E3",
             "minorgridcolor": "#C8D4E3",
             "startlinecolor": "#2a3f5f"
            },
            "type": "carpet"
           }
          ],
          "choropleth": [
           {
            "colorbar": {
             "outlinewidth": 0,
             "ticks": ""
            },
            "type": "choropleth"
           }
          ],
          "contour": [
           {
            "colorbar": {
             "outlinewidth": 0,
             "ticks": ""
            },
            "colorscale": [
             [
              0,
              "#0d0887"
             ],
             [
              0.1111111111111111,
              "#46039f"
             ],
             [
              0.2222222222222222,
              "#7201a8"
             ],
             [
              0.3333333333333333,
              "#9c179e"
             ],
             [
              0.4444444444444444,
              "#bd3786"
             ],
             [
              0.5555555555555556,
              "#d8576b"
             ],
             [
              0.6666666666666666,
              "#ed7953"
             ],
             [
              0.7777777777777778,
              "#fb9f3a"
             ],
             [
              0.8888888888888888,
              "#fdca26"
             ],
             [
              1,
              "#f0f921"
             ]
            ],
            "type": "contour"
           }
          ],
          "contourcarpet": [
           {
            "colorbar": {
             "outlinewidth": 0,
             "ticks": ""
            },
            "type": "contourcarpet"
           }
          ],
          "heatmap": [
           {
            "colorbar": {
             "outlinewidth": 0,
             "ticks": ""
            },
            "colorscale": [
             [
              0,
              "#0d0887"
             ],
             [
              0.1111111111111111,
              "#46039f"
             ],
             [
              0.2222222222222222,
              "#7201a8"
             ],
             [
              0.3333333333333333,
              "#9c179e"
             ],
             [
              0.4444444444444444,
              "#bd3786"
             ],
             [
              0.5555555555555556,
              "#d8576b"
             ],
             [
              0.6666666666666666,
              "#ed7953"
             ],
             [
              0.7777777777777778,
              "#fb9f3a"
             ],
             [
              0.8888888888888888,
              "#fdca26"
             ],
             [
              1,
              "#f0f921"
             ]
            ],
            "type": "heatmap"
           }
          ],
          "heatmapgl": [
           {
            "colorbar": {
             "outlinewidth": 0,
             "ticks": ""
            },
            "colorscale": [
             [
              0,
              "#0d0887"
             ],
             [
              0.1111111111111111,
              "#46039f"
             ],
             [
              0.2222222222222222,
              "#7201a8"
             ],
             [
              0.3333333333333333,
              "#9c179e"
             ],
             [
              0.4444444444444444,
              "#bd3786"
             ],
             [
              0.5555555555555556,
              "#d8576b"
             ],
             [
              0.6666666666666666,
              "#ed7953"
             ],
             [
              0.7777777777777778,
              "#fb9f3a"
             ],
             [
              0.8888888888888888,
              "#fdca26"
             ],
             [
              1,
              "#f0f921"
             ]
            ],
            "type": "heatmapgl"
           }
          ],
          "histogram": [
           {
            "marker": {
             "colorbar": {
              "outlinewidth": 0,
              "ticks": ""
             }
            },
            "type": "histogram"
           }
          ],
          "histogram2d": [
           {
            "colorbar": {
             "outlinewidth": 0,
             "ticks": ""
            },
            "colorscale": [
             [
              0,
              "#0d0887"
             ],
             [
              0.1111111111111111,
              "#46039f"
             ],
             [
              0.2222222222222222,
              "#7201a8"
             ],
             [
              0.3333333333333333,
              "#9c179e"
             ],
             [
              0.4444444444444444,
              "#bd3786"
             ],
             [
              0.5555555555555556,
              "#d8576b"
             ],
             [
              0.6666666666666666,
              "#ed7953"
             ],
             [
              0.7777777777777778,
              "#fb9f3a"
             ],
             [
              0.8888888888888888,
              "#fdca26"
             ],
             [
              1,
              "#f0f921"
             ]
            ],
            "type": "histogram2d"
           }
          ],
          "histogram2dcontour": [
           {
            "colorbar": {
             "outlinewidth": 0,
             "ticks": ""
            },
            "colorscale": [
             [
              0,
              "#0d0887"
             ],
             [
              0.1111111111111111,
              "#46039f"
             ],
             [
              0.2222222222222222,
              "#7201a8"
             ],
             [
              0.3333333333333333,
              "#9c179e"
             ],
             [
              0.4444444444444444,
              "#bd3786"
             ],
             [
              0.5555555555555556,
              "#d8576b"
             ],
             [
              0.6666666666666666,
              "#ed7953"
             ],
             [
              0.7777777777777778,
              "#fb9f3a"
             ],
             [
              0.8888888888888888,
              "#fdca26"
             ],
             [
              1,
              "#f0f921"
             ]
            ],
            "type": "histogram2dcontour"
           }
          ],
          "mesh3d": [
           {
            "colorbar": {
             "outlinewidth": 0,
             "ticks": ""
            },
            "type": "mesh3d"
           }
          ],
          "parcoords": [
           {
            "line": {
             "colorbar": {
              "outlinewidth": 0,
              "ticks": ""
             }
            },
            "type": "parcoords"
           }
          ],
          "pie": [
           {
            "automargin": true,
            "type": "pie"
           }
          ],
          "scatter": [
           {
            "marker": {
             "colorbar": {
              "outlinewidth": 0,
              "ticks": ""
             }
            },
            "type": "scatter"
           }
          ],
          "scatter3d": [
           {
            "line": {
             "colorbar": {
              "outlinewidth": 0,
              "ticks": ""
             }
            },
            "marker": {
             "colorbar": {
              "outlinewidth": 0,
              "ticks": ""
             }
            },
            "type": "scatter3d"
           }
          ],
          "scattercarpet": [
           {
            "marker": {
             "colorbar": {
              "outlinewidth": 0,
              "ticks": ""
             }
            },
            "type": "scattercarpet"
           }
          ],
          "scattergeo": [
           {
            "marker": {
             "colorbar": {
              "outlinewidth": 0,
              "ticks": ""
             }
            },
            "type": "scattergeo"
           }
          ],
          "scattergl": [
           {
            "marker": {
             "colorbar": {
              "outlinewidth": 0,
              "ticks": ""
             }
            },
            "type": "scattergl"
           }
          ],
          "scattermapbox": [
           {
            "marker": {
             "colorbar": {
              "outlinewidth": 0,
              "ticks": ""
             }
            },
            "type": "scattermapbox"
           }
          ],
          "scatterpolar": [
           {
            "marker": {
             "colorbar": {
              "outlinewidth": 0,
              "ticks": ""
             }
            },
            "type": "scatterpolar"
           }
          ],
          "scatterpolargl": [
           {
            "marker": {
             "colorbar": {
              "outlinewidth": 0,
              "ticks": ""
             }
            },
            "type": "scatterpolargl"
           }
          ],
          "scatterternary": [
           {
            "marker": {
             "colorbar": {
              "outlinewidth": 0,
              "ticks": ""
             }
            },
            "type": "scatterternary"
           }
          ],
          "surface": [
           {
            "colorbar": {
             "outlinewidth": 0,
             "ticks": ""
            },
            "colorscale": [
             [
              0,
              "#0d0887"
             ],
             [
              0.1111111111111111,
              "#46039f"
             ],
             [
              0.2222222222222222,
              "#7201a8"
             ],
             [
              0.3333333333333333,
              "#9c179e"
             ],
             [
              0.4444444444444444,
              "#bd3786"
             ],
             [
              0.5555555555555556,
              "#d8576b"
             ],
             [
              0.6666666666666666,
              "#ed7953"
             ],
             [
              0.7777777777777778,
              "#fb9f3a"
             ],
             [
              0.8888888888888888,
              "#fdca26"
             ],
             [
              1,
              "#f0f921"
             ]
            ],
            "type": "surface"
           }
          ],
          "table": [
           {
            "cells": {
             "fill": {
              "color": "#EBF0F8"
             },
             "line": {
              "color": "white"
             }
            },
            "header": {
             "fill": {
              "color": "#C8D4E3"
             },
             "line": {
              "color": "white"
             }
            },
            "type": "table"
           }
          ]
         },
         "layout": {
          "annotationdefaults": {
           "arrowcolor": "#2a3f5f",
           "arrowhead": 0,
           "arrowwidth": 1
          },
          "coloraxis": {
           "colorbar": {
            "outlinewidth": 0,
            "ticks": ""
           }
          },
          "colorscale": {
           "diverging": [
            [
             0,
             "#8e0152"
            ],
            [
             0.1,
             "#c51b7d"
            ],
            [
             0.2,
             "#de77ae"
            ],
            [
             0.3,
             "#f1b6da"
            ],
            [
             0.4,
             "#fde0ef"
            ],
            [
             0.5,
             "#f7f7f7"
            ],
            [
             0.6,
             "#e6f5d0"
            ],
            [
             0.7,
             "#b8e186"
            ],
            [
             0.8,
             "#7fbc41"
            ],
            [
             0.9,
             "#4d9221"
            ],
            [
             1,
             "#276419"
            ]
           ],
           "sequential": [
            [
             0,
             "#0d0887"
            ],
            [
             0.1111111111111111,
             "#46039f"
            ],
            [
             0.2222222222222222,
             "#7201a8"
            ],
            [
             0.3333333333333333,
             "#9c179e"
            ],
            [
             0.4444444444444444,
             "#bd3786"
            ],
            [
             0.5555555555555556,
             "#d8576b"
            ],
            [
             0.6666666666666666,
             "#ed7953"
            ],
            [
             0.7777777777777778,
             "#fb9f3a"
            ],
            [
             0.8888888888888888,
             "#fdca26"
            ],
            [
             1,
             "#f0f921"
            ]
           ],
           "sequentialminus": [
            [
             0,
             "#0d0887"
            ],
            [
             0.1111111111111111,
             "#46039f"
            ],
            [
             0.2222222222222222,
             "#7201a8"
            ],
            [
             0.3333333333333333,
             "#9c179e"
            ],
            [
             0.4444444444444444,
             "#bd3786"
            ],
            [
             0.5555555555555556,
             "#d8576b"
            ],
            [
             0.6666666666666666,
             "#ed7953"
            ],
            [
             0.7777777777777778,
             "#fb9f3a"
            ],
            [
             0.8888888888888888,
             "#fdca26"
            ],
            [
             1,
             "#f0f921"
            ]
           ]
          },
          "colorway": [
           "#636efa",
           "#EF553B",
           "#00cc96",
           "#ab63fa",
           "#FFA15A",
           "#19d3f3",
           "#FF6692",
           "#B6E880",
           "#FF97FF",
           "#FECB52"
          ],
          "font": {
           "color": "#2a3f5f"
          },
          "geo": {
           "bgcolor": "white",
           "lakecolor": "white",
           "landcolor": "white",
           "showlakes": true,
           "showland": true,
           "subunitcolor": "#C8D4E3"
          },
          "hoverlabel": {
           "align": "left"
          },
          "hovermode": "closest",
          "mapbox": {
           "style": "light"
          },
          "paper_bgcolor": "white",
          "plot_bgcolor": "white",
          "polar": {
           "angularaxis": {
            "gridcolor": "#EBF0F8",
            "linecolor": "#EBF0F8",
            "ticks": ""
           },
           "bgcolor": "white",
           "radialaxis": {
            "gridcolor": "#EBF0F8",
            "linecolor": "#EBF0F8",
            "ticks": ""
           }
          },
          "scene": {
           "xaxis": {
            "backgroundcolor": "white",
            "gridcolor": "#DFE8F3",
            "gridwidth": 2,
            "linecolor": "#EBF0F8",
            "showbackground": true,
            "ticks": "",
            "zerolinecolor": "#EBF0F8"
           },
           "yaxis": {
            "backgroundcolor": "white",
            "gridcolor": "#DFE8F3",
            "gridwidth": 2,
            "linecolor": "#EBF0F8",
            "showbackground": true,
            "ticks": "",
            "zerolinecolor": "#EBF0F8"
           },
           "zaxis": {
            "backgroundcolor": "white",
            "gridcolor": "#DFE8F3",
            "gridwidth": 2,
            "linecolor": "#EBF0F8",
            "showbackground": true,
            "ticks": "",
            "zerolinecolor": "#EBF0F8"
           }
          },
          "shapedefaults": {
           "line": {
            "color": "#2a3f5f"
           }
          },
          "ternary": {
           "aaxis": {
            "gridcolor": "#DFE8F3",
            "linecolor": "#A2B1C6",
            "ticks": ""
           },
           "baxis": {
            "gridcolor": "#DFE8F3",
            "linecolor": "#A2B1C6",
            "ticks": ""
           },
           "bgcolor": "white",
           "caxis": {
            "gridcolor": "#DFE8F3",
            "linecolor": "#A2B1C6",
            "ticks": ""
           }
          },
          "title": {
           "x": 0.05
          },
          "xaxis": {
           "automargin": true,
           "gridcolor": "#EBF0F8",
           "linecolor": "#EBF0F8",
           "ticks": "",
           "title": {
            "standoff": 15
           },
           "zerolinecolor": "#EBF0F8",
           "zerolinewidth": 2
          },
          "yaxis": {
           "automargin": true,
           "gridcolor": "#EBF0F8",
           "linecolor": "#EBF0F8",
           "ticks": "",
           "title": {
            "standoff": 15
           },
           "zerolinecolor": "#EBF0F8",
           "zerolinewidth": 2
          }
         }
        },
        "xaxis": {
         "anchor": "y",
         "domain": [
          0,
          1
         ],
         "title": {
          "text": "x"
         }
        },
        "yaxis": {
         "anchor": "x",
         "domain": [
          0,
          1
         ],
         "title": {
          "text": "y"
         }
        }
       }
      }
     },
     "metadata": {},
     "output_type": "display_data"
    }
   ],
   "source": [
    "pipe.plot_feature_importances()"
   ]
  },
  {
   "cell_type": "code",
   "execution_count": 533,
   "metadata": {},
   "outputs": [
    {
     "data": {
      "application/vnd.plotly.v1+json": {
       "config": {
        "plotlyServerURL": "https://plot.ly"
       },
       "data": [
        {
         "name": "prediction",
         "type": "scatter",
         "y": [
          196610.15,
          205578.63,
          251058,
          184098.48,
          235172.32,
          125336.26,
          104636,
          218880.37,
          208178.82,
          176375.3,
          154800.43,
          116048.17,
          159020.98,
          128725.66,
          70961.19
         ]
        },
        {
         "name": "actual",
         "type": "scatter",
         "y": [
          185000,
          200000,
          244600,
          157500,
          263435,
          62383,
          91300,
          254000,
          222000,
          178000,
          135000,
          115000,
          162000,
          107500,
          82500
         ]
        }
       ],
       "layout": {
        "template": {
         "data": {
          "bar": [
           {
            "error_x": {
             "color": "#2a3f5f"
            },
            "error_y": {
             "color": "#2a3f5f"
            },
            "marker": {
             "line": {
              "color": "white",
              "width": 0.5
             }
            },
            "type": "bar"
           }
          ],
          "barpolar": [
           {
            "marker": {
             "line": {
              "color": "white",
              "width": 0.5
             }
            },
            "type": "barpolar"
           }
          ],
          "carpet": [
           {
            "aaxis": {
             "endlinecolor": "#2a3f5f",
             "gridcolor": "#C8D4E3",
             "linecolor": "#C8D4E3",
             "minorgridcolor": "#C8D4E3",
             "startlinecolor": "#2a3f5f"
            },
            "baxis": {
             "endlinecolor": "#2a3f5f",
             "gridcolor": "#C8D4E3",
             "linecolor": "#C8D4E3",
             "minorgridcolor": "#C8D4E3",
             "startlinecolor": "#2a3f5f"
            },
            "type": "carpet"
           }
          ],
          "choropleth": [
           {
            "colorbar": {
             "outlinewidth": 0,
             "ticks": ""
            },
            "type": "choropleth"
           }
          ],
          "contour": [
           {
            "colorbar": {
             "outlinewidth": 0,
             "ticks": ""
            },
            "colorscale": [
             [
              0,
              "#0d0887"
             ],
             [
              0.1111111111111111,
              "#46039f"
             ],
             [
              0.2222222222222222,
              "#7201a8"
             ],
             [
              0.3333333333333333,
              "#9c179e"
             ],
             [
              0.4444444444444444,
              "#bd3786"
             ],
             [
              0.5555555555555556,
              "#d8576b"
             ],
             [
              0.6666666666666666,
              "#ed7953"
             ],
             [
              0.7777777777777778,
              "#fb9f3a"
             ],
             [
              0.8888888888888888,
              "#fdca26"
             ],
             [
              1,
              "#f0f921"
             ]
            ],
            "type": "contour"
           }
          ],
          "contourcarpet": [
           {
            "colorbar": {
             "outlinewidth": 0,
             "ticks": ""
            },
            "type": "contourcarpet"
           }
          ],
          "heatmap": [
           {
            "colorbar": {
             "outlinewidth": 0,
             "ticks": ""
            },
            "colorscale": [
             [
              0,
              "#0d0887"
             ],
             [
              0.1111111111111111,
              "#46039f"
             ],
             [
              0.2222222222222222,
              "#7201a8"
             ],
             [
              0.3333333333333333,
              "#9c179e"
             ],
             [
              0.4444444444444444,
              "#bd3786"
             ],
             [
              0.5555555555555556,
              "#d8576b"
             ],
             [
              0.6666666666666666,
              "#ed7953"
             ],
             [
              0.7777777777777778,
              "#fb9f3a"
             ],
             [
              0.8888888888888888,
              "#fdca26"
             ],
             [
              1,
              "#f0f921"
             ]
            ],
            "type": "heatmap"
           }
          ],
          "heatmapgl": [
           {
            "colorbar": {
             "outlinewidth": 0,
             "ticks": ""
            },
            "colorscale": [
             [
              0,
              "#0d0887"
             ],
             [
              0.1111111111111111,
              "#46039f"
             ],
             [
              0.2222222222222222,
              "#7201a8"
             ],
             [
              0.3333333333333333,
              "#9c179e"
             ],
             [
              0.4444444444444444,
              "#bd3786"
             ],
             [
              0.5555555555555556,
              "#d8576b"
             ],
             [
              0.6666666666666666,
              "#ed7953"
             ],
             [
              0.7777777777777778,
              "#fb9f3a"
             ],
             [
              0.8888888888888888,
              "#fdca26"
             ],
             [
              1,
              "#f0f921"
             ]
            ],
            "type": "heatmapgl"
           }
          ],
          "histogram": [
           {
            "marker": {
             "colorbar": {
              "outlinewidth": 0,
              "ticks": ""
             }
            },
            "type": "histogram"
           }
          ],
          "histogram2d": [
           {
            "colorbar": {
             "outlinewidth": 0,
             "ticks": ""
            },
            "colorscale": [
             [
              0,
              "#0d0887"
             ],
             [
              0.1111111111111111,
              "#46039f"
             ],
             [
              0.2222222222222222,
              "#7201a8"
             ],
             [
              0.3333333333333333,
              "#9c179e"
             ],
             [
              0.4444444444444444,
              "#bd3786"
             ],
             [
              0.5555555555555556,
              "#d8576b"
             ],
             [
              0.6666666666666666,
              "#ed7953"
             ],
             [
              0.7777777777777778,
              "#fb9f3a"
             ],
             [
              0.8888888888888888,
              "#fdca26"
             ],
             [
              1,
              "#f0f921"
             ]
            ],
            "type": "histogram2d"
           }
          ],
          "histogram2dcontour": [
           {
            "colorbar": {
             "outlinewidth": 0,
             "ticks": ""
            },
            "colorscale": [
             [
              0,
              "#0d0887"
             ],
             [
              0.1111111111111111,
              "#46039f"
             ],
             [
              0.2222222222222222,
              "#7201a8"
             ],
             [
              0.3333333333333333,
              "#9c179e"
             ],
             [
              0.4444444444444444,
              "#bd3786"
             ],
             [
              0.5555555555555556,
              "#d8576b"
             ],
             [
              0.6666666666666666,
              "#ed7953"
             ],
             [
              0.7777777777777778,
              "#fb9f3a"
             ],
             [
              0.8888888888888888,
              "#fdca26"
             ],
             [
              1,
              "#f0f921"
             ]
            ],
            "type": "histogram2dcontour"
           }
          ],
          "mesh3d": [
           {
            "colorbar": {
             "outlinewidth": 0,
             "ticks": ""
            },
            "type": "mesh3d"
           }
          ],
          "parcoords": [
           {
            "line": {
             "colorbar": {
              "outlinewidth": 0,
              "ticks": ""
             }
            },
            "type": "parcoords"
           }
          ],
          "pie": [
           {
            "automargin": true,
            "type": "pie"
           }
          ],
          "scatter": [
           {
            "marker": {
             "colorbar": {
              "outlinewidth": 0,
              "ticks": ""
             }
            },
            "type": "scatter"
           }
          ],
          "scatter3d": [
           {
            "line": {
             "colorbar": {
              "outlinewidth": 0,
              "ticks": ""
             }
            },
            "marker": {
             "colorbar": {
              "outlinewidth": 0,
              "ticks": ""
             }
            },
            "type": "scatter3d"
           }
          ],
          "scattercarpet": [
           {
            "marker": {
             "colorbar": {
              "outlinewidth": 0,
              "ticks": ""
             }
            },
            "type": "scattercarpet"
           }
          ],
          "scattergeo": [
           {
            "marker": {
             "colorbar": {
              "outlinewidth": 0,
              "ticks": ""
             }
            },
            "type": "scattergeo"
           }
          ],
          "scattergl": [
           {
            "marker": {
             "colorbar": {
              "outlinewidth": 0,
              "ticks": ""
             }
            },
            "type": "scattergl"
           }
          ],
          "scattermapbox": [
           {
            "marker": {
             "colorbar": {
              "outlinewidth": 0,
              "ticks": ""
             }
            },
            "type": "scattermapbox"
           }
          ],
          "scatterpolar": [
           {
            "marker": {
             "colorbar": {
              "outlinewidth": 0,
              "ticks": ""
             }
            },
            "type": "scatterpolar"
           }
          ],
          "scatterpolargl": [
           {
            "marker": {
             "colorbar": {
              "outlinewidth": 0,
              "ticks": ""
             }
            },
            "type": "scatterpolargl"
           }
          ],
          "scatterternary": [
           {
            "marker": {
             "colorbar": {
              "outlinewidth": 0,
              "ticks": ""
             }
            },
            "type": "scatterternary"
           }
          ],
          "surface": [
           {
            "colorbar": {
             "outlinewidth": 0,
             "ticks": ""
            },
            "colorscale": [
             [
              0,
              "#0d0887"
             ],
             [
              0.1111111111111111,
              "#46039f"
             ],
             [
              0.2222222222222222,
              "#7201a8"
             ],
             [
              0.3333333333333333,
              "#9c179e"
             ],
             [
              0.4444444444444444,
              "#bd3786"
             ],
             [
              0.5555555555555556,
              "#d8576b"
             ],
             [
              0.6666666666666666,
              "#ed7953"
             ],
             [
              0.7777777777777778,
              "#fb9f3a"
             ],
             [
              0.8888888888888888,
              "#fdca26"
             ],
             [
              1,
              "#f0f921"
             ]
            ],
            "type": "surface"
           }
          ],
          "table": [
           {
            "cells": {
             "fill": {
              "color": "#EBF0F8"
             },
             "line": {
              "color": "white"
             }
            },
            "header": {
             "fill": {
              "color": "#C8D4E3"
             },
             "line": {
              "color": "white"
             }
            },
            "type": "table"
           }
          ]
         },
         "layout": {
          "annotationdefaults": {
           "arrowcolor": "#2a3f5f",
           "arrowhead": 0,
           "arrowwidth": 1
          },
          "coloraxis": {
           "colorbar": {
            "outlinewidth": 0,
            "ticks": ""
           }
          },
          "colorscale": {
           "diverging": [
            [
             0,
             "#8e0152"
            ],
            [
             0.1,
             "#c51b7d"
            ],
            [
             0.2,
             "#de77ae"
            ],
            [
             0.3,
             "#f1b6da"
            ],
            [
             0.4,
             "#fde0ef"
            ],
            [
             0.5,
             "#f7f7f7"
            ],
            [
             0.6,
             "#e6f5d0"
            ],
            [
             0.7,
             "#b8e186"
            ],
            [
             0.8,
             "#7fbc41"
            ],
            [
             0.9,
             "#4d9221"
            ],
            [
             1,
             "#276419"
            ]
           ],
           "sequential": [
            [
             0,
             "#0d0887"
            ],
            [
             0.1111111111111111,
             "#46039f"
            ],
            [
             0.2222222222222222,
             "#7201a8"
            ],
            [
             0.3333333333333333,
             "#9c179e"
            ],
            [
             0.4444444444444444,
             "#bd3786"
            ],
            [
             0.5555555555555556,
             "#d8576b"
            ],
            [
             0.6666666666666666,
             "#ed7953"
            ],
            [
             0.7777777777777778,
             "#fb9f3a"
            ],
            [
             0.8888888888888888,
             "#fdca26"
            ],
            [
             1,
             "#f0f921"
            ]
           ],
           "sequentialminus": [
            [
             0,
             "#0d0887"
            ],
            [
             0.1111111111111111,
             "#46039f"
            ],
            [
             0.2222222222222222,
             "#7201a8"
            ],
            [
             0.3333333333333333,
             "#9c179e"
            ],
            [
             0.4444444444444444,
             "#bd3786"
            ],
            [
             0.5555555555555556,
             "#d8576b"
            ],
            [
             0.6666666666666666,
             "#ed7953"
            ],
            [
             0.7777777777777778,
             "#fb9f3a"
            ],
            [
             0.8888888888888888,
             "#fdca26"
            ],
            [
             1,
             "#f0f921"
            ]
           ]
          },
          "colorway": [
           "#636efa",
           "#EF553B",
           "#00cc96",
           "#ab63fa",
           "#FFA15A",
           "#19d3f3",
           "#FF6692",
           "#B6E880",
           "#FF97FF",
           "#FECB52"
          ],
          "font": {
           "color": "#2a3f5f"
          },
          "geo": {
           "bgcolor": "white",
           "lakecolor": "white",
           "landcolor": "white",
           "showlakes": true,
           "showland": true,
           "subunitcolor": "#C8D4E3"
          },
          "hoverlabel": {
           "align": "left"
          },
          "hovermode": "closest",
          "mapbox": {
           "style": "light"
          },
          "paper_bgcolor": "white",
          "plot_bgcolor": "white",
          "polar": {
           "angularaxis": {
            "gridcolor": "#EBF0F8",
            "linecolor": "#EBF0F8",
            "ticks": ""
           },
           "bgcolor": "white",
           "radialaxis": {
            "gridcolor": "#EBF0F8",
            "linecolor": "#EBF0F8",
            "ticks": ""
           }
          },
          "scene": {
           "xaxis": {
            "backgroundcolor": "white",
            "gridcolor": "#DFE8F3",
            "gridwidth": 2,
            "linecolor": "#EBF0F8",
            "showbackground": true,
            "ticks": "",
            "zerolinecolor": "#EBF0F8"
           },
           "yaxis": {
            "backgroundcolor": "white",
            "gridcolor": "#DFE8F3",
            "gridwidth": 2,
            "linecolor": "#EBF0F8",
            "showbackground": true,
            "ticks": "",
            "zerolinecolor": "#EBF0F8"
           },
           "zaxis": {
            "backgroundcolor": "white",
            "gridcolor": "#DFE8F3",
            "gridwidth": 2,
            "linecolor": "#EBF0F8",
            "showbackground": true,
            "ticks": "",
            "zerolinecolor": "#EBF0F8"
           }
          },
          "shapedefaults": {
           "line": {
            "color": "#2a3f5f"
           }
          },
          "ternary": {
           "aaxis": {
            "gridcolor": "#DFE8F3",
            "linecolor": "#A2B1C6",
            "ticks": ""
           },
           "baxis": {
            "gridcolor": "#DFE8F3",
            "linecolor": "#A2B1C6",
            "ticks": ""
           },
           "bgcolor": "white",
           "caxis": {
            "gridcolor": "#DFE8F3",
            "linecolor": "#A2B1C6",
            "ticks": ""
           }
          },
          "title": {
           "x": 0.05
          },
          "xaxis": {
           "automargin": true,
           "gridcolor": "#EBF0F8",
           "linecolor": "#EBF0F8",
           "ticks": "",
           "title": {
            "standoff": 15
           },
           "zerolinecolor": "#EBF0F8",
           "zerolinewidth": 2
          },
          "yaxis": {
           "automargin": true,
           "gridcolor": "#EBF0F8",
           "linecolor": "#EBF0F8",
           "ticks": "",
           "title": {
            "standoff": 15
           },
           "zerolinecolor": "#EBF0F8",
           "zerolinewidth": 2
          }
         }
        }
       }
      }
     },
     "metadata": {},
     "output_type": "display_data"
    }
   ],
   "source": [
    "pipe.graph_predictions()"
   ]
  },
  {
   "cell_type": "code",
   "execution_count": 529,
   "metadata": {},
   "outputs": [],
   "source": [
    "feature_engineering_methods = [\n",
    "    NewFeatures.add_month_number\n",
    "]\n",
    "\n",
    "data_scaling_options = {\n",
    "    'standardize_data':False, \n",
    "}\n",
    "\n",
    "modeling_options = {\n",
    "    'use_random_forest': True,\n",
    "}"
   ]
  },
  {
   "cell_type": "code",
   "execution_count": null,
   "metadata": {},
   "outputs": [],
   "source": []
  }
 ],
 "metadata": {
  "interpreter": {
   "hash": "c481518f0c828bab2fc04cd2d881b7800b57b84f50190e329816569e316f7752"
  },
  "kernelspec": {
   "display_name": "Python 3.6.7 64-bit ('ai': conda)",
   "language": "python",
   "name": "python3"
  },
  "language_info": {
   "codemirror_mode": {
    "name": "ipython",
    "version": 3
   },
   "file_extension": ".py",
   "mimetype": "text/x-python",
   "name": "python",
   "nbconvert_exporter": "python",
   "pygments_lexer": "ipython3",
   "version": "3.6.7"
  },
  "orig_nbformat": 4
 },
 "nbformat": 4,
 "nbformat_minor": 2
}

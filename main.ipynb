{
 "cells": [
  {
   "cell_type": "markdown",
   "metadata": {},
   "source": [
    "# Imports & Config"
   ]
  },
  {
   "cell_type": "code",
   "execution_count": 1,
   "metadata": {},
   "outputs": [],
   "source": [
    "import os\n",
    "import pandas as pd\n",
    "import numpy as np\n",
    "\n",
    "import plotly.express as px\n",
    "import plotly.graph_objects as go\n",
    "import plotly.io as pio\n",
    "\n",
    "from plotly.subplots import make_subplots\n",
    "from dotenv import dotenv_values\n",
    "from matplotlib import pyplot as plt\n",
    "\n",
    "from sklearn import preprocessing\n",
    "from sklearn import tree\n",
    "\n",
    "config = dotenv_values(\".env\")\n",
    "\n",
    "px.set_mapbox_access_token(config['MAPBOX_TOKEN'])\n",
    "pio.templates.default = \"plotly_white\"\n",
    "\n",
    "np.random.seed(711)"
   ]
  },
  {
   "cell_type": "code",
   "execution_count": 2,
   "metadata": {},
   "outputs": [],
   "source": [
    "df = pd.read_csv('train.csv')"
   ]
  },
  {
   "cell_type": "markdown",
   "metadata": {},
   "source": [
    "# Modeling"
   ]
  },
  {
   "cell_type": "markdown",
   "metadata": {},
   "source": [
    "**Pipeline**:\n",
    "\n",
    "1. Set Pipeline Options:\n",
    "- What Data Fixing Operations should be used (bool flags)\n",
    "- What new features (via methods) should be added\n",
    "- Scaling options to use (bool flags)\n",
    "- Model hyperparams\n",
    "\n",
    "2. Data Fixing\n",
    "- Remove inessential columns\n",
    "- Fix NA/missing values\n",
    "- Fix erroneous values (e.g. \"None\" vs None)\n",
    "- Remove outliers *with care*\n",
    "\n",
    "3. Feature Engineering\n",
    "- Add new features\n",
    "\n",
    "4. Feature Scaling\n",
    "- Convert categorical features\n",
    "- (optional) Scale/Normalize features\n",
    "- Standardize features\n",
    "\n",
    "5. Model preparation\n",
    "- split train/test (use k-folds)\n",
    "- set hyper-params (or use grid/random search)\n",
    "- set metrics and visual analysis"
   ]
  },
  {
   "cell_type": "markdown",
   "metadata": {},
   "source": [
    "## Feature Gen & Helpers"
   ]
  },
  {
   "cell_type": "code",
   "execution_count": 3,
   "metadata": {},
   "outputs": [],
   "source": [
    "class NewFeatures:\n",
    "\n",
    "    # Adds the month number, e.g. second month of seconds year = (1 * 12) + 2 = 14\n",
    "    @staticmethod\n",
    "    def add_month_number(df):\n",
    "        '''\n",
    "        Returns a new DataFrame with addded column \"month_number\". The month_number starts at 1 and increments to the final month.\n",
    "        For instance, if the earliest date is January 2005, February 2005 = 2 and February 2006 = 14.\n",
    "        '''\n",
    "        df.YrSold = pd.to_numeric(df.YrSold)\n",
    "        df.MoSold = pd.to_numeric(df.MoSold)\n",
    "        base_year = df.YrSold.min()\n",
    "        df['month_number'] = (df.YrSold - base_year)*12 + df.MoSold\n",
    "\n",
    "        return df"
   ]
  },
  {
   "cell_type": "code",
   "execution_count": 4,
   "metadata": {},
   "outputs": [],
   "source": [
    "class Helpers:\n",
    "\n",
    "    # Returns two DataFrames, a training set with all months n-1, and a test set with just month n\n",
    "    @staticmethod\n",
    "    def separate_final_month(df):\n",
    "        '''\n",
    "        Returns two new DataFrames. The first DataFrame includes all records & columns except records from the final month (as determined by col month_number). \n",
    "        The second DataFrame includes all records & columns from the final month.\n",
    "        '''\n",
    "        df = df.copy()\n",
    "        if 'month_number' not in df:\n",
    "            df = NewFeatures.add_month_number(df)\n",
    "        \n",
    "        train_set = df.loc[df.month_number<df.month_number.max()]\n",
    "        test_set = df.loc[df.month_number==df.month_number.max()]\n",
    "\n",
    "        return train_set, test_set\n",
    "\n",
    "    @staticmethod\n",
    "    def split_x_y(df):\n",
    "        x = df.drop(columns=['SalePrice']).values\n",
    "        y = df.SalePrice.values.reshape((len(df), 1))\n",
    "        return x, y\n",
    "\n",
    "    @staticmethod\n",
    "    def convert_to_ordinal(df, columns, ignore_na=False):\n",
    "        df = df.copy()\n",
    "        for col in columns:\n",
    "            unique_values = df[col].unique()\n",
    "            n_categories  = len(unique_values)\n",
    "\n",
    "            ordinal_map = {v:i for v, i in zip(unique_values, range(1, n_categories+1))}\n",
    "            \n",
    "            df[col] = df[col].replace(ordinal_map)\n",
    "            if not ignore_na:\n",
    "                df[col] = df[col].fillna(0)\n",
    "\n",
    "        return df\n",
    "\n",
    "    @staticmethod\n",
    "    def convert_to_one_hot(df, columns, ignore_na=False, drop_original_cols=True):\n",
    "        df = df.copy()\n",
    "        if columns is None:\n",
    "            columns = df.columns\n",
    "        onehot_cols = pd.get_dummies(df.loc[:, columns], columns=columns, dummy_na=(not ignore_na))\n",
    "        print(onehot_cols.columns)\n",
    "        df = df.join(onehot_cols)\n",
    "        if drop_original_cols:\n",
    "            df = df.drop(columns=columns)\n",
    "\n",
    "        return df\n"
   ]
  },
  {
   "cell_type": "markdown",
   "metadata": {},
   "source": [
    "## Pipeline"
   ]
  },
  {
   "cell_type": "code",
   "execution_count": 5,
   "metadata": {},
   "outputs": [],
   "source": [
    "class DataFixing:\n",
    "\n",
    "    def __init__(self, **kwargs):\n",
    "        self.df = None\n",
    "        self.__dict__.update(kwargs)\n",
    "\n",
    "    def fix(self, df):\n",
    "        # Loops through all class methods and calls the ones with prefix \"_\"\n",
    "        self.df = df\n",
    "\n",
    "        if 'SalePrice' in self.df:\n",
    "            print(\"Removing SalePrice target before operations\")\n",
    "            self.df = self.df.drop(columns=[\"SalePrice\"])\n",
    "\n",
    "        for attr_name in dir(self):\n",
    "            if attr_name[0] == '_' and attr_name[1] != '_':\n",
    "                attr = getattr(self, attr_name)\n",
    "                if callable(attr):\n",
    "                    print(f'before {attr_name}: {len(self.df)}')\n",
    "                    attr()\n",
    "                    print(f'after {attr_name}: {len(self.df)}')\n",
    "\n",
    "        return self.df\n",
    "\n",
    "    def _remove_columns(self, columns=None):\n",
    "        should_remove_columns = getattr(self, 'remove_columns', False)\n",
    "        if should_remove_columns:\n",
    "            columns = getattr(self, 'remove_columns_list', columns)\n",
    "            self.df = self.df.drop(columns=columns)\n",
    "\n",
    "    def _fix_na(self):\n",
    "        should_fix_na = getattr(self, 'fix_na', False)\n",
    "        if should_fix_na:\n",
    "            self.df = self.df.fillna(0)\n",
    "        pass\n",
    "\n",
    "    def _fix_error_values(self):\n",
    "        should_fix_error_values = getattr(self, 'fix_error_values', False)\n",
    "        if should_fix_error_values:\n",
    "            pass\n",
    "        pass\n",
    "\n",
    "    def _fix_outliers(self):\n",
    "        should_fix_outliers = getattr(self, 'fix_outliers', False)\n",
    "        if should_fix_outliers:\n",
    "            pass\n",
    "        pass\n",
    "\n",
    "    def _remove_non_numeric_columns(self):\n",
    "        should_remove_non_numeric = getattr(self, 'remove_non_numeric', False)\n",
    "        if should_remove_non_numeric:\n",
    "            self.df = self.df._get_numeric_data()\n"
   ]
  },
  {
   "cell_type": "code",
   "execution_count": 6,
   "metadata": {},
   "outputs": [],
   "source": [
    "class FeatureGeneration:\n",
    "\n",
    "    def __init__(self, list_of_methods):\n",
    "        self.feature_methods = list_of_methods\n",
    "\n",
    "    def generate(self, df):\n",
    "        if 'SalePrice' in df:\n",
    "            print(\"Removing SalePrice target before operations\")\n",
    "            df = df.drop(columns=[\"SalePrice\"])\n",
    "        for method in self.feature_methods:\n",
    "            if callable(method):\n",
    "                df = method(df)\n",
    "        return df"
   ]
  },
  {
   "cell_type": "code",
   "execution_count": 7,
   "metadata": {},
   "outputs": [],
   "source": [
    "class FeatureScaler:\n",
    "\n",
    "    def __init__(self, **kwargs):\n",
    "        self.df = None\n",
    "        self.__dict__.update(kwargs)\n",
    "\n",
    "    def scale(self, df):\n",
    "        self.df = df\n",
    "        if len(self.df) == 0:\n",
    "            return False\n",
    "\n",
    "        if 'SalePrice' in self.df:\n",
    "            print(\"Removing SalePrice target before operations\")\n",
    "            self.df = self.df.drop(columns=[\"SalePrice\"])\n",
    "\n",
    "        if not self.columns_are_valid():\n",
    "            raise Exception(\"Ensure all columns are numeric\")\n",
    "        for attr_name in dir(self):\n",
    "            if attr_name[0] == '_' and attr_name[1] != '_':\n",
    "                attr = getattr(self, attr_name)\n",
    "                if callable(attr):\n",
    "                    attr()\n",
    "\n",
    "        return self.df\n",
    "\n",
    "    def columns_are_valid(self):\n",
    "        # ensure that all dtypes are numeric\n",
    "        dtypes = self.df.dtypes.unique()\n",
    "        if 'O' in dtypes:\n",
    "            print('found an o dtype')\n",
    "            return False\n",
    "        return True\n",
    "\n",
    "    def _standardize_data(self):\n",
    "        should_standardize_features = getattr(self, 'standardize_data', False)\n",
    "        if should_standardize_features:\n",
    "            self.df = (self.df - self.df.mean()) / self.df.std()\n"
   ]
  },
  {
   "cell_type": "code",
   "execution_count": 8,
   "metadata": {},
   "outputs": [],
   "source": [
    "class Modeler:\n",
    "\n",
    "    def __init__(self):\n",
    "        self.clf = tree.DecisionTreeRegressor()\n",
    "\n",
    "    def fit(self, x, y):\n",
    "        self.clf.fit(x, y)\n",
    "\n",
    "    def predict(self, x):\n",
    "        return self.clf.predict(x)\n",
    "\n",
    "    def calc_error(self, predicted, actual):\n",
    "        return np.sqrt( np.mean((predicted - actual)**2) )\n",
    "\n",
    "    def evaluate(self, df):\n",
    "        rmses = self.train(df, rounds=1)\n",
    "        return np.mean(rmses)\n"
   ]
  },
  {
   "cell_type": "code",
   "execution_count": 9,
   "metadata": {},
   "outputs": [],
   "source": [
    "class Pipeline:\n",
    "    def __init__(self, df, fixing_options, gen_options, scaling_options, modeling_options):\n",
    "        self.df = df\n",
    "        self.options = {'fix': fixing_options, 'gen': gen_options, 'scale': scaling_options, 'model': modeling_options}\n",
    "        # Used for Graphing\n",
    "        self.clf      = None\n",
    "        self.y_pred   = []\n",
    "        self.y_actual = []\n",
    "    \n",
    "    def validate(self):\n",
    "        return True\n",
    "\n",
    "    def graph_predictions(self):\n",
    "        if len(self.y_pred)>0 and len(self.y_pred) == len(self.y_actual):\n",
    "            fig = go.Figure()\n",
    "            fig.add_trace(\n",
    "                go.Scatter(y=self.y_pred, name=\"prediction\")\n",
    "            )\n",
    "            fig.add_trace(\n",
    "                go.Scatter(y=self.y_actual, name=\"actual\")\n",
    "            )\n",
    "            return fig\n",
    "\n",
    "    def plot_tree(self):\n",
    "        if len(self.y_pred)>0: # Another way of checking that the CLF has been fit\n",
    "            fig = plt.figure(figsize=(96,12))\n",
    "            _ = tree.plot_tree(\n",
    "                self.clf, \n",
    "                max_depth=6,\n",
    "                feature_names=self.df.columns,\n",
    "                filled=True,\n",
    "                fontsize=10,\n",
    "            )\n",
    "            fig.savefig(\"decision_tree.png\")\n",
    "            return fig\n",
    "\n",
    "    def run(self):\n",
    "        fixer = DataFixing(**self.options['fix'])\n",
    "        feature_generator = FeatureGeneration(self.options['gen'])\n",
    "        scaler = FeatureScaler(**self.options['scale'])\n",
    "        modeler = Modeler()\n",
    "\n",
    "        # Perform Data Operations and Feature Generation\n",
    "        data = self.df.drop(columns=['SalePrice'])\n",
    "        data = fixer.fix(data)\n",
    "        data = feature_generator.generate(data)\n",
    "        data = scaler.scale(data)\n",
    "\n",
    "        # Split into train and test sets\n",
    "        train, test = Helpers.separate_final_month(data.join(df.SalePrice))\n",
    "        x_train, y_train = Helpers.split_x_y(train)\n",
    "        x_test, y_test = Helpers.split_x_y(test)\n",
    "\n",
    "\n",
    "        # Model\n",
    "        modeler.fit(x_train, y_train)\n",
    "        y_pred = modeler.predict(x_test)\n",
    "        error = modeler.calc_error(y_pred, y_test.flatten())\n",
    "\n",
    "        self.y_pred = y_pred\n",
    "        self.y_actual = y_test.flatten()\n",
    "        self.clf = modeler.clf\n",
    "\n",
    "        print(f'RMSE: {error}')\n",
    "        return error"
   ]
  },
  {
   "cell_type": "markdown",
   "metadata": {},
   "source": [
    "# Run"
   ]
  },
  {
   "cell_type": "code",
   "execution_count": 10,
   "metadata": {},
   "outputs": [],
   "source": [
    "data_fixing_options = {\n",
    "    'remove_columns': False,\n",
    "    'remove_columns_list': [\n",
    "        'Street',\n",
    "        'Alley',\n",
    "        'Utilities',\n",
    "        'Condition2',\n",
    "        'PoolQC',\n",
    "        'MiscFeature',\n",
    "        'RoofMatl',\n",
    "        'Heating',\n",
    "        'LowQualFinSF',\n",
    "        'PoolArea'\n",
    "    ],\n",
    "\n",
    "    'fix_na': True,\n",
    "    'fix_error_values': False,\n",
    "    'fix_outliers': False,\n",
    "    'remove_non_numeric': True\n",
    "}\n",
    "\n",
    "feature_engineering_methods = [\n",
    "    NewFeatures.add_month_number\n",
    "]\n",
    "\n",
    "data_scaling_options = {\n",
    "    'standardize_data':False, \n",
    "}\n",
    "\n",
    "modeling_options = {}"
   ]
  },
  {
   "cell_type": "code",
   "execution_count": 11,
   "metadata": {},
   "outputs": [
    {
     "name": "stdout",
     "output_type": "stream",
     "text": [
      "before _fix_error_values: 1285\n",
      "after _fix_error_values: 1285\n",
      "before _fix_na: 1285\n",
      "after _fix_na: 1285\n",
      "before _fix_outliers: 1285\n",
      "after _fix_outliers: 1285\n",
      "before _remove_columns: 1285\n",
      "after _remove_columns: 1285\n",
      "before _remove_non_numeric_columns: 1285\n",
      "after _remove_non_numeric_columns: 1285\n",
      "RMSE: 40680.75549445954\n"
     ]
    },
    {
     "data": {
      "text/plain": [
       "40680.75549445954"
      ]
     },
     "execution_count": 11,
     "metadata": {},
     "output_type": "execute_result"
    }
   ],
   "source": [
    "pipe = Pipeline(df.loc[(df.YrSold < 2010)], data_fixing_options, feature_engineering_methods, data_scaling_options, modeling_options)\n",
    "pipe.run()"
   ]
  },
  {
   "cell_type": "code",
   "execution_count": 12,
   "metadata": {},
   "outputs": [
    {
     "data": {
      "application/vnd.plotly.v1+json": {
       "config": {
        "plotlyServerURL": "https://plot.ly"
       },
       "data": [
        {
         "name": "prediction",
         "type": "scatter",
         "y": [
          196500,
          127500,
          287090,
          143000,
          339750,
          100000,
          66500,
          220000,
          224000,
          127500,
          206900,
          119000,
          149300,
          106000,
          60000
         ]
        },
        {
         "name": "actual",
         "type": "scatter",
         "y": [
          185000,
          200000,
          244600,
          157500,
          263435,
          62383,
          91300,
          254000,
          222000,
          178000,
          135000,
          115000,
          162000,
          107500,
          82500
         ]
        }
       ],
       "layout": {
        "template": {
         "data": {
          "bar": [
           {
            "error_x": {
             "color": "#2a3f5f"
            },
            "error_y": {
             "color": "#2a3f5f"
            },
            "marker": {
             "line": {
              "color": "white",
              "width": 0.5
             }
            },
            "type": "bar"
           }
          ],
          "barpolar": [
           {
            "marker": {
             "line": {
              "color": "white",
              "width": 0.5
             }
            },
            "type": "barpolar"
           }
          ],
          "carpet": [
           {
            "aaxis": {
             "endlinecolor": "#2a3f5f",
             "gridcolor": "#C8D4E3",
             "linecolor": "#C8D4E3",
             "minorgridcolor": "#C8D4E3",
             "startlinecolor": "#2a3f5f"
            },
            "baxis": {
             "endlinecolor": "#2a3f5f",
             "gridcolor": "#C8D4E3",
             "linecolor": "#C8D4E3",
             "minorgridcolor": "#C8D4E3",
             "startlinecolor": "#2a3f5f"
            },
            "type": "carpet"
           }
          ],
          "choropleth": [
           {
            "colorbar": {
             "outlinewidth": 0,
             "ticks": ""
            },
            "type": "choropleth"
           }
          ],
          "contour": [
           {
            "colorbar": {
             "outlinewidth": 0,
             "ticks": ""
            },
            "colorscale": [
             [
              0,
              "#0d0887"
             ],
             [
              0.1111111111111111,
              "#46039f"
             ],
             [
              0.2222222222222222,
              "#7201a8"
             ],
             [
              0.3333333333333333,
              "#9c179e"
             ],
             [
              0.4444444444444444,
              "#bd3786"
             ],
             [
              0.5555555555555556,
              "#d8576b"
             ],
             [
              0.6666666666666666,
              "#ed7953"
             ],
             [
              0.7777777777777778,
              "#fb9f3a"
             ],
             [
              0.8888888888888888,
              "#fdca26"
             ],
             [
              1,
              "#f0f921"
             ]
            ],
            "type": "contour"
           }
          ],
          "contourcarpet": [
           {
            "colorbar": {
             "outlinewidth": 0,
             "ticks": ""
            },
            "type": "contourcarpet"
           }
          ],
          "heatmap": [
           {
            "colorbar": {
             "outlinewidth": 0,
             "ticks": ""
            },
            "colorscale": [
             [
              0,
              "#0d0887"
             ],
             [
              0.1111111111111111,
              "#46039f"
             ],
             [
              0.2222222222222222,
              "#7201a8"
             ],
             [
              0.3333333333333333,
              "#9c179e"
             ],
             [
              0.4444444444444444,
              "#bd3786"
             ],
             [
              0.5555555555555556,
              "#d8576b"
             ],
             [
              0.6666666666666666,
              "#ed7953"
             ],
             [
              0.7777777777777778,
              "#fb9f3a"
             ],
             [
              0.8888888888888888,
              "#fdca26"
             ],
             [
              1,
              "#f0f921"
             ]
            ],
            "type": "heatmap"
           }
          ],
          "heatmapgl": [
           {
            "colorbar": {
             "outlinewidth": 0,
             "ticks": ""
            },
            "colorscale": [
             [
              0,
              "#0d0887"
             ],
             [
              0.1111111111111111,
              "#46039f"
             ],
             [
              0.2222222222222222,
              "#7201a8"
             ],
             [
              0.3333333333333333,
              "#9c179e"
             ],
             [
              0.4444444444444444,
              "#bd3786"
             ],
             [
              0.5555555555555556,
              "#d8576b"
             ],
             [
              0.6666666666666666,
              "#ed7953"
             ],
             [
              0.7777777777777778,
              "#fb9f3a"
             ],
             [
              0.8888888888888888,
              "#fdca26"
             ],
             [
              1,
              "#f0f921"
             ]
            ],
            "type": "heatmapgl"
           }
          ],
          "histogram": [
           {
            "marker": {
             "colorbar": {
              "outlinewidth": 0,
              "ticks": ""
             }
            },
            "type": "histogram"
           }
          ],
          "histogram2d": [
           {
            "colorbar": {
             "outlinewidth": 0,
             "ticks": ""
            },
            "colorscale": [
             [
              0,
              "#0d0887"
             ],
             [
              0.1111111111111111,
              "#46039f"
             ],
             [
              0.2222222222222222,
              "#7201a8"
             ],
             [
              0.3333333333333333,
              "#9c179e"
             ],
             [
              0.4444444444444444,
              "#bd3786"
             ],
             [
              0.5555555555555556,
              "#d8576b"
             ],
             [
              0.6666666666666666,
              "#ed7953"
             ],
             [
              0.7777777777777778,
              "#fb9f3a"
             ],
             [
              0.8888888888888888,
              "#fdca26"
             ],
             [
              1,
              "#f0f921"
             ]
            ],
            "type": "histogram2d"
           }
          ],
          "histogram2dcontour": [
           {
            "colorbar": {
             "outlinewidth": 0,
             "ticks": ""
            },
            "colorscale": [
             [
              0,
              "#0d0887"
             ],
             [
              0.1111111111111111,
              "#46039f"
             ],
             [
              0.2222222222222222,
              "#7201a8"
             ],
             [
              0.3333333333333333,
              "#9c179e"
             ],
             [
              0.4444444444444444,
              "#bd3786"
             ],
             [
              0.5555555555555556,
              "#d8576b"
             ],
             [
              0.6666666666666666,
              "#ed7953"
             ],
             [
              0.7777777777777778,
              "#fb9f3a"
             ],
             [
              0.8888888888888888,
              "#fdca26"
             ],
             [
              1,
              "#f0f921"
             ]
            ],
            "type": "histogram2dcontour"
           }
          ],
          "mesh3d": [
           {
            "colorbar": {
             "outlinewidth": 0,
             "ticks": ""
            },
            "type": "mesh3d"
           }
          ],
          "parcoords": [
           {
            "line": {
             "colorbar": {
              "outlinewidth": 0,
              "ticks": ""
             }
            },
            "type": "parcoords"
           }
          ],
          "pie": [
           {
            "automargin": true,
            "type": "pie"
           }
          ],
          "scatter": [
           {
            "marker": {
             "colorbar": {
              "outlinewidth": 0,
              "ticks": ""
             }
            },
            "type": "scatter"
           }
          ],
          "scatter3d": [
           {
            "line": {
             "colorbar": {
              "outlinewidth": 0,
              "ticks": ""
             }
            },
            "marker": {
             "colorbar": {
              "outlinewidth": 0,
              "ticks": ""
             }
            },
            "type": "scatter3d"
           }
          ],
          "scattercarpet": [
           {
            "marker": {
             "colorbar": {
              "outlinewidth": 0,
              "ticks": ""
             }
            },
            "type": "scattercarpet"
           }
          ],
          "scattergeo": [
           {
            "marker": {
             "colorbar": {
              "outlinewidth": 0,
              "ticks": ""
             }
            },
            "type": "scattergeo"
           }
          ],
          "scattergl": [
           {
            "marker": {
             "colorbar": {
              "outlinewidth": 0,
              "ticks": ""
             }
            },
            "type": "scattergl"
           }
          ],
          "scattermapbox": [
           {
            "marker": {
             "colorbar": {
              "outlinewidth": 0,
              "ticks": ""
             }
            },
            "type": "scattermapbox"
           }
          ],
          "scatterpolar": [
           {
            "marker": {
             "colorbar": {
              "outlinewidth": 0,
              "ticks": ""
             }
            },
            "type": "scatterpolar"
           }
          ],
          "scatterpolargl": [
           {
            "marker": {
             "colorbar": {
              "outlinewidth": 0,
              "ticks": ""
             }
            },
            "type": "scatterpolargl"
           }
          ],
          "scatterternary": [
           {
            "marker": {
             "colorbar": {
              "outlinewidth": 0,
              "ticks": ""
             }
            },
            "type": "scatterternary"
           }
          ],
          "surface": [
           {
            "colorbar": {
             "outlinewidth": 0,
             "ticks": ""
            },
            "colorscale": [
             [
              0,
              "#0d0887"
             ],
             [
              0.1111111111111111,
              "#46039f"
             ],
             [
              0.2222222222222222,
              "#7201a8"
             ],
             [
              0.3333333333333333,
              "#9c179e"
             ],
             [
              0.4444444444444444,
              "#bd3786"
             ],
             [
              0.5555555555555556,
              "#d8576b"
             ],
             [
              0.6666666666666666,
              "#ed7953"
             ],
             [
              0.7777777777777778,
              "#fb9f3a"
             ],
             [
              0.8888888888888888,
              "#fdca26"
             ],
             [
              1,
              "#f0f921"
             ]
            ],
            "type": "surface"
           }
          ],
          "table": [
           {
            "cells": {
             "fill": {
              "color": "#EBF0F8"
             },
             "line": {
              "color": "white"
             }
            },
            "header": {
             "fill": {
              "color": "#C8D4E3"
             },
             "line": {
              "color": "white"
             }
            },
            "type": "table"
           }
          ]
         },
         "layout": {
          "annotationdefaults": {
           "arrowcolor": "#2a3f5f",
           "arrowhead": 0,
           "arrowwidth": 1
          },
          "coloraxis": {
           "colorbar": {
            "outlinewidth": 0,
            "ticks": ""
           }
          },
          "colorscale": {
           "diverging": [
            [
             0,
             "#8e0152"
            ],
            [
             0.1,
             "#c51b7d"
            ],
            [
             0.2,
             "#de77ae"
            ],
            [
             0.3,
             "#f1b6da"
            ],
            [
             0.4,
             "#fde0ef"
            ],
            [
             0.5,
             "#f7f7f7"
            ],
            [
             0.6,
             "#e6f5d0"
            ],
            [
             0.7,
             "#b8e186"
            ],
            [
             0.8,
             "#7fbc41"
            ],
            [
             0.9,
             "#4d9221"
            ],
            [
             1,
             "#276419"
            ]
           ],
           "sequential": [
            [
             0,
             "#0d0887"
            ],
            [
             0.1111111111111111,
             "#46039f"
            ],
            [
             0.2222222222222222,
             "#7201a8"
            ],
            [
             0.3333333333333333,
             "#9c179e"
            ],
            [
             0.4444444444444444,
             "#bd3786"
            ],
            [
             0.5555555555555556,
             "#d8576b"
            ],
            [
             0.6666666666666666,
             "#ed7953"
            ],
            [
             0.7777777777777778,
             "#fb9f3a"
            ],
            [
             0.8888888888888888,
             "#fdca26"
            ],
            [
             1,
             "#f0f921"
            ]
           ],
           "sequentialminus": [
            [
             0,
             "#0d0887"
            ],
            [
             0.1111111111111111,
             "#46039f"
            ],
            [
             0.2222222222222222,
             "#7201a8"
            ],
            [
             0.3333333333333333,
             "#9c179e"
            ],
            [
             0.4444444444444444,
             "#bd3786"
            ],
            [
             0.5555555555555556,
             "#d8576b"
            ],
            [
             0.6666666666666666,
             "#ed7953"
            ],
            [
             0.7777777777777778,
             "#fb9f3a"
            ],
            [
             0.8888888888888888,
             "#fdca26"
            ],
            [
             1,
             "#f0f921"
            ]
           ]
          },
          "colorway": [
           "#636efa",
           "#EF553B",
           "#00cc96",
           "#ab63fa",
           "#FFA15A",
           "#19d3f3",
           "#FF6692",
           "#B6E880",
           "#FF97FF",
           "#FECB52"
          ],
          "font": {
           "color": "#2a3f5f"
          },
          "geo": {
           "bgcolor": "white",
           "lakecolor": "white",
           "landcolor": "white",
           "showlakes": true,
           "showland": true,
           "subunitcolor": "#C8D4E3"
          },
          "hoverlabel": {
           "align": "left"
          },
          "hovermode": "closest",
          "mapbox": {
           "style": "light"
          },
          "paper_bgcolor": "white",
          "plot_bgcolor": "white",
          "polar": {
           "angularaxis": {
            "gridcolor": "#EBF0F8",
            "linecolor": "#EBF0F8",
            "ticks": ""
           },
           "bgcolor": "white",
           "radialaxis": {
            "gridcolor": "#EBF0F8",
            "linecolor": "#EBF0F8",
            "ticks": ""
           }
          },
          "scene": {
           "xaxis": {
            "backgroundcolor": "white",
            "gridcolor": "#DFE8F3",
            "gridwidth": 2,
            "linecolor": "#EBF0F8",
            "showbackground": true,
            "ticks": "",
            "zerolinecolor": "#EBF0F8"
           },
           "yaxis": {
            "backgroundcolor": "white",
            "gridcolor": "#DFE8F3",
            "gridwidth": 2,
            "linecolor": "#EBF0F8",
            "showbackground": true,
            "ticks": "",
            "zerolinecolor": "#EBF0F8"
           },
           "zaxis": {
            "backgroundcolor": "white",
            "gridcolor": "#DFE8F3",
            "gridwidth": 2,
            "linecolor": "#EBF0F8",
            "showbackground": true,
            "ticks": "",
            "zerolinecolor": "#EBF0F8"
           }
          },
          "shapedefaults": {
           "line": {
            "color": "#2a3f5f"
           }
          },
          "ternary": {
           "aaxis": {
            "gridcolor": "#DFE8F3",
            "linecolor": "#A2B1C6",
            "ticks": ""
           },
           "baxis": {
            "gridcolor": "#DFE8F3",
            "linecolor": "#A2B1C6",
            "ticks": ""
           },
           "bgcolor": "white",
           "caxis": {
            "gridcolor": "#DFE8F3",
            "linecolor": "#A2B1C6",
            "ticks": ""
           }
          },
          "title": {
           "x": 0.05
          },
          "xaxis": {
           "automargin": true,
           "gridcolor": "#EBF0F8",
           "linecolor": "#EBF0F8",
           "ticks": "",
           "title": {
            "standoff": 15
           },
           "zerolinecolor": "#EBF0F8",
           "zerolinewidth": 2
          },
          "yaxis": {
           "automargin": true,
           "gridcolor": "#EBF0F8",
           "linecolor": "#EBF0F8",
           "ticks": "",
           "title": {
            "standoff": 15
           },
           "zerolinecolor": "#EBF0F8",
           "zerolinewidth": 2
          }
         }
        }
       }
      }
     },
     "metadata": {},
     "output_type": "display_data"
    }
   ],
   "source": [
    "pipe.graph_predictions()"
   ]
  },
  {
   "cell_type": "code",
   "execution_count": null,
   "metadata": {},
   "outputs": [],
   "source": []
  }
 ],
 "metadata": {
  "interpreter": {
   "hash": "c481518f0c828bab2fc04cd2d881b7800b57b84f50190e329816569e316f7752"
  },
  "kernelspec": {
   "display_name": "Python 3.6.7 64-bit ('ai': conda)",
   "language": "python",
   "name": "python3"
  },
  "language_info": {
   "codemirror_mode": {
    "name": "ipython",
    "version": 3
   },
   "file_extension": ".py",
   "mimetype": "text/x-python",
   "name": "python",
   "nbconvert_exporter": "python",
   "pygments_lexer": "ipython3",
   "version": "3.6.7"
  },
  "orig_nbformat": 4
 },
 "nbformat": 4,
 "nbformat_minor": 2
}
